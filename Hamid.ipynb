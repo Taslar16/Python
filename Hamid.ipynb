{
  "nbformat": 4,
  "nbformat_minor": 0,
  "metadata": {
    "colab": {
      "provenance": [],
      "authorship_tag": "ABX9TyNclrBFOMOrUUYBVonz+pLJ",
      "include_colab_link": true
    },
    "kernelspec": {
      "name": "python3",
      "display_name": "Python 3"
    },
    "language_info": {
      "name": "python"
    }
  },
  "cells": [
    {
      "cell_type": "markdown",
      "metadata": {
        "id": "view-in-github",
        "colab_type": "text"
      },
      "source": [
        "<a href=\"https://colab.research.google.com/github/Taslar16/Python/blob/main/Hamid.ipynb\" target=\"_parent\"><img src=\"https://colab.research.google.com/assets/colab-badge.svg\" alt=\"Open In Colab\"/></a>"
      ]
    },
    {
      "cell_type": "markdown",
      "source": [
        "1. Write a program that prints your name and age."
      ],
      "metadata": {
        "id": "MF0J0flzpK0c"
      }
    },
    {
      "cell_type": "code",
      "source": [
        "Name = \"Hamid\"\n",
        "Age = \"33\"\n",
        "print (Name, Age)"
      ],
      "metadata": {
        "colab": {
          "base_uri": "https://localhost:8080/"
        },
        "id": "VoSjhjcepepx",
        "outputId": "25f6a8a0-ca5d-4497-99ca-888caf6255aa"
      },
      "execution_count": null,
      "outputs": [
        {
          "output_type": "stream",
          "name": "stdout",
          "text": [
            "Hamid 33\n"
          ]
        }
      ]
    },
    {
      "cell_type": "code",
      "source": [
        "P = 10, 2\n",
        "t = 3, 4\n",
        "print (P+t)"
      ],
      "metadata": {
        "colab": {
          "base_uri": "https://localhost:8080/"
        },
        "id": "-ChisxORhqKw",
        "outputId": "9bc15b4f-bc60-4cb6-e34e-a1c13142180b"
      },
      "execution_count": null,
      "outputs": [
        {
          "output_type": "stream",
          "name": "stdout",
          "text": [
            "(10, 2, 3, 4)\n"
          ]
        }
      ]
    },
    {
      "cell_type": "code",
      "source": [
        "P = 10, 2\n",
        "t = 3, 4\n",
        "print (sum(P+t))"
      ],
      "metadata": {
        "colab": {
          "base_uri": "https://localhost:8080/"
        },
        "id": "i4f-3VhGiWKl",
        "outputId": "1e404a8d-b8b7-47b7-f02a-4bed0d2927cf"
      },
      "execution_count": null,
      "outputs": [
        {
          "output_type": "stream",
          "name": "stdout",
          "text": [
            "19\n"
          ]
        }
      ]
    },
    {
      "cell_type": "markdown",
      "source": [
        "2. Store your favorite number in a variable and print it."
      ],
      "metadata": {
        "id": "NFjGfX_PqR0F"
      }
    },
    {
      "cell_type": "code",
      "source": [
        "Number = 7105\n",
        "print(Number)"
      ],
      "metadata": {
        "colab": {
          "base_uri": "https://localhost:8080/"
        },
        "id": "ntDpZnBnqZmM",
        "outputId": "c589bf72-d2ab-44f8-8bcb-9ea799a3204a"
      },
      "execution_count": null,
      "outputs": [
        {
          "output_type": "stream",
          "name": "stdout",
          "text": [
            "7105\n"
          ]
        }
      ]
    },
    {
      "cell_type": "code",
      "source": [],
      "metadata": {
        "id": "bSRfrazShlyZ"
      },
      "execution_count": null,
      "outputs": []
    },
    {
      "cell_type": "code",
      "source": [
        "T, O = 6, 5\n",
        "print (T+O)\n",
        "print (\"6+5=\", T+O)\n",
        "print (\"6+5=\",)"
      ],
      "metadata": {
        "colab": {
          "base_uri": "https://localhost:8080/"
        },
        "id": "7PSujvoArww_",
        "outputId": "f83e2c4e-a4af-4fc6-ba3b-0c7cca04afbe"
      },
      "execution_count": null,
      "outputs": [
        {
          "output_type": "stream",
          "name": "stdout",
          "text": [
            "11\n",
            "6+5= 11\n",
            "6+5=\n"
          ]
        }
      ]
    },
    {
      "cell_type": "markdown",
      "source": [
        "4. Use comments to explain your code."
      ],
      "metadata": {
        "id": "QDUgTTQVssrM"
      }
    },
    {
      "cell_type": "code",
      "source": [],
      "metadata": {
        "id": "3OKRmDhqs0Sy"
      },
      "execution_count": null,
      "outputs": []
    },
    {
      "cell_type": "code",
      "source": [
        "T, O = 6, 5\n",
        "# T and O were Added\n",
        "print (T+O)\n",
        "print (\"6+5=\", T+O)\n",
        "# WE CAN MAKE AS FOLLOWS ALSO\n",
        "print (\"6+5=\",)"
      ],
      "metadata": {
        "colab": {
          "base_uri": "https://localhost:8080/"
        },
        "outputId": "6b1b78d6-5a72-43cb-f454-098e57f15f0c",
        "id": "rAMxYiJFtFtc"
      },
      "execution_count": null,
      "outputs": [
        {
          "output_type": "stream",
          "name": "stdout",
          "text": [
            "11\n",
            "6+5= 11\n",
            "6+5=\n"
          ]
        }
      ]
    },
    {
      "cell_type": "markdown",
      "source": [
        "Take two numbers from the user and perform all arithmetic operations.\n",
        "Write a program to check if a number is greater than 100 and less than 200.\n",
        "Demonstrate the use of and, or, and not with conditions.\n",
        "Check if the letter 'p' exists in the string 'Python'.\n",
        "Show the difference between is and == using two lists."
      ],
      "metadata": {
        "id": "_lwR6NX1tu2C"
      }
    },
    {
      "cell_type": "code",
      "source": [
        "number1 = int (input (\"enter your number1: \"))\n",
        "number2 = int (input (\"enter your number2: \"))\n",
        "print (\"Sum:\", number1 + number2)\n",
        "print (\"Difference:\", number1 - number2)\n",
        "print (\"Product:\", number1 * number2)\n",
        "\n",
        "# Add a check to prevent division by zero\n",
        "if number2 != 0:\n",
        "    print (\"Division:\", number1 / number2)\n",
        "else:\n",
        "    print(\"Cannot divide by zero.\")"
      ],
      "metadata": {
        "colab": {
          "base_uri": "https://localhost:8080/"
        },
        "id": "9_bswQqC42sA",
        "outputId": "9429cc8a-5565-489f-a075-418254b729cc"
      },
      "execution_count": null,
      "outputs": [
        {
          "output_type": "stream",
          "name": "stdout",
          "text": [
            "enter your number1: 110\n",
            "enter your number2: 12\n",
            "Sum: 122\n",
            "Difference: 98\n",
            "Product: 1320\n",
            "Division: 9.166666666666666\n"
          ]
        }
      ]
    },
    {
      "cell_type": "code",
      "source": [
        "x = 100\n",
        "y = 200\n",
        "print (x == y)\n",
        "print (x > 100 and y < 200)\n",
        "print (x > 100 or y < 200)\n",
        "print (not x > 100)\n",
        "print (110 > 100 and 110 < 200)\n",
        "print (110 > 100 or 110 < 200)\n",
        "print (not 110 > 100)\n",
        "print ( x != y)"
      ],
      "metadata": {
        "colab": {
          "base_uri": "https://localhost:8080/"
        },
        "id": "9ZIrFWqiAdz0",
        "outputId": "270ba9a8-a688-417f-eb98-abf63f169309"
      },
      "execution_count": null,
      "outputs": [
        {
          "output_type": "stream",
          "name": "stdout",
          "text": [
            "False\n",
            "False\n",
            "False\n",
            "True\n",
            "True\n",
            "True\n",
            "False\n",
            "True\n"
          ]
        }
      ]
    },
    {
      "cell_type": "code",
      "source": [
        "print ( 10 and 10 )\n",
        "print (10 and 0 )\n",
        "print ( 10 or 10 )\n",
        "print (10 or 0 )\n",
        "print (not 0 )\n",
        "print (not 10)\n",
        "print ( not False)"
      ],
      "metadata": {
        "colab": {
          "base_uri": "https://localhost:8080/"
        },
        "id": "1Yr1oAX-EuGG",
        "outputId": "835c9cfe-69cb-4fc1-c19c-543626203588"
      },
      "execution_count": null,
      "outputs": [
        {
          "output_type": "stream",
          "name": "stdout",
          "text": [
            "10\n",
            "0\n",
            "10\n",
            "10\n",
            "True\n",
            "False\n",
            "True\n"
          ]
        }
      ]
    },
    {
      "cell_type": "code",
      "source": [
        "Name = \"Python\"\n",
        "print (\"P\" in Name)\n",
        "print (\"a\" in Name)\n",
        "print (\"a\" not in Name)\n"
      ],
      "metadata": {
        "colab": {
          "base_uri": "https://localhost:8080/"
        },
        "id": "-ZWgXn5iHN4K",
        "outputId": "cb8e3a95-f4f1-482e-a3ee-b84c4328d5d7"
      },
      "execution_count": null,
      "outputs": [
        {
          "output_type": "stream",
          "name": "stdout",
          "text": [
            "True\n",
            "False\n",
            "True\n"
          ]
        }
      ]
    },
    {
      "cell_type": "code",
      "source": [
        "x = [1, 2, 3]\n",
        "y = [1, 2, 3]\n",
        "print (x == y)\n",
        "print (x is y)\n",
        "print (x and y)"
      ],
      "metadata": {
        "colab": {
          "base_uri": "https://localhost:8080/"
        },
        "id": "mFxIqk-OIS7l",
        "outputId": "b2729d33-356b-4ed5-df95-9c2761b6fb0f"
      },
      "execution_count": null,
      "outputs": [
        {
          "output_type": "stream",
          "name": "stdout",
          "text": [
            "True\n",
            "False\n",
            "[1, 2, 3]\n"
          ]
        }
      ]
    },
    {
      "cell_type": "markdown",
      "source": [
        "Ask the user for their birth year and calculate their age.\n",
        "Convert a float number to an integer and print both values.\n",
        "Write a program that asks for two numbers and prints their product.\n",
        "Create a variable is_python_fun with a boolean value and print it."
      ],
      "metadata": {
        "id": "Ph5HI2N3lO56"
      }
    },
    {
      "cell_type": "code",
      "source": [
        "birth_year = int(input(\"enter your birth_year: \"))\n",
        "age = (2023 - birth_year)\n",
        "print(age)"
      ],
      "metadata": {
        "colab": {
          "base_uri": "https://localhost:8080/"
        },
        "id": "XjHoUjc0nf11",
        "outputId": "7c25b5aa-a258-4f10-ccae-74e858c51d5e"
      },
      "execution_count": null,
      "outputs": [
        {
          "output_type": "stream",
          "name": "stdout",
          "text": [
            "enter your birth_year: 1991\n",
            "32\n"
          ]
        }
      ]
    },
    {
      "cell_type": "code",
      "source": [
        "number = 3.99\n",
        "print(number)\n",
        "print(type(number))\n",
        "print(int(number))\n",
        "print(type(int(number)))"
      ],
      "metadata": {
        "colab": {
          "base_uri": "https://localhost:8080/"
        },
        "id": "-1iOTzytBiK0",
        "outputId": "20eb3558-196c-4849-ab9f-6d43365e5c8b"
      },
      "execution_count": null,
      "outputs": [
        {
          "output_type": "stream",
          "name": "stdout",
          "text": [
            "3.99\n",
            "<class 'float'>\n",
            "3\n",
            "<class 'int'>\n"
          ]
        }
      ]
    },
    {
      "cell_type": "code",
      "source": [
        "is_python_fun = True\n",
        "bool(is_python_fun)\n",
        "print(is_python_fun)\n",
        "\n"
      ],
      "metadata": {
        "colab": {
          "base_uri": "https://localhost:8080/"
        },
        "id": "b23FLgiUCqZ-",
        "outputId": "6cac5cc8-126c-4601-9470-4f4a438d7636"
      },
      "execution_count": null,
      "outputs": [
        {
          "output_type": "stream",
          "name": "stdout",
          "text": [
            "True\n"
          ]
        }
      ]
    },
    {
      "cell_type": "markdown",
      "source": [
        "Take a string input and print the first and last characters.\n",
        "Write a program to reverse a string using slicing.\n",
        "Count how many times the letter a appears in a string.\n",
        "Ask the user for their full name and print it in uppercase.\n",
        "Format a string to display: “My favorite subject is ___ and I am ___ years old.”"
      ],
      "metadata": {
        "id": "tHrwFhi5gSrR"
      }
    },
    {
      "cell_type": "code",
      "source": [
        "word = Ahasanul\n",
        "print (word [0])\n",
        "print (word [7])"
      ],
      "metadata": {
        "id": "cERVUUaIgkaZ"
      },
      "execution_count": null,
      "outputs": []
    }
  ]
}