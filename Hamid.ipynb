{
  "nbformat": 4,
  "nbformat_minor": 0,
  "metadata": {
    "colab": {
      "provenance": [],
      "authorship_tag": "ABX9TyNZw7kP87yXWUNb0t1zgwkG",
      "include_colab_link": true
    },
    "kernelspec": {
      "name": "python3",
      "display_name": "Python 3"
    },
    "language_info": {
      "name": "python"
    }
  },
  "cells": [
    {
      "cell_type": "markdown",
      "metadata": {
        "id": "view-in-github",
        "colab_type": "text"
      },
      "source": [
        "<a href=\"https://colab.research.google.com/github/Taslar16/Python/blob/main/Hamid.ipynb\" target=\"_parent\"><img src=\"https://colab.research.google.com/assets/colab-badge.svg\" alt=\"Open In Colab\"/></a>"
      ]
    },
    {
      "cell_type": "markdown",
      "source": [
        "1. Write a program that prints your name and age."
      ],
      "metadata": {
        "id": "MF0J0flzpK0c"
      }
    },
    {
      "cell_type": "code",
      "source": [
        "Name = \"Hamid\"\n",
        "Age = \"33\"\n",
        "print (Name, Age)"
      ],
      "metadata": {
        "colab": {
          "base_uri": "https://localhost:8080/"
        },
        "id": "VoSjhjcepepx",
        "outputId": "25f6a8a0-ca5d-4497-99ca-888caf6255aa"
      },
      "execution_count": null,
      "outputs": [
        {
          "output_type": "stream",
          "name": "stdout",
          "text": [
            "Hamid 33\n"
          ]
        }
      ]
    },
    {
      "cell_type": "code",
      "source": [
        "P = 10, 2\n",
        "t = 3, 4\n",
        "print (P+t)"
      ],
      "metadata": {
        "colab": {
          "base_uri": "https://localhost:8080/"
        },
        "id": "-ChisxORhqKw",
        "outputId": "9bc15b4f-bc60-4cb6-e34e-a1c13142180b"
      },
      "execution_count": null,
      "outputs": [
        {
          "output_type": "stream",
          "name": "stdout",
          "text": [
            "(10, 2, 3, 4)\n"
          ]
        }
      ]
    },
    {
      "cell_type": "code",
      "source": [
        "P = 10, 2\n",
        "t = 3, 4\n",
        "print (sum(P+t))"
      ],
      "metadata": {
        "colab": {
          "base_uri": "https://localhost:8080/"
        },
        "id": "i4f-3VhGiWKl",
        "outputId": "1e404a8d-b8b7-47b7-f02a-4bed0d2927cf"
      },
      "execution_count": null,
      "outputs": [
        {
          "output_type": "stream",
          "name": "stdout",
          "text": [
            "19\n"
          ]
        }
      ]
    },
    {
      "cell_type": "markdown",
      "source": [
        "2. Store your favorite number in a variable and print it."
      ],
      "metadata": {
        "id": "NFjGfX_PqR0F"
      }
    },
    {
      "cell_type": "code",
      "source": [
        "Number = 7105\n",
        "print(Number)"
      ],
      "metadata": {
        "colab": {
          "base_uri": "https://localhost:8080/"
        },
        "id": "ntDpZnBnqZmM",
        "outputId": "c589bf72-d2ab-44f8-8bcb-9ea799a3204a"
      },
      "execution_count": null,
      "outputs": [
        {
          "output_type": "stream",
          "name": "stdout",
          "text": [
            "7105\n"
          ]
        }
      ]
    },
    {
      "cell_type": "code",
      "source": [],
      "metadata": {
        "id": "bSRfrazShlyZ"
      },
      "execution_count": null,
      "outputs": []
    },
    {
      "cell_type": "code",
      "source": [
        "T, O = 6, 5\n",
        "print (T+O)\n",
        "print (\"6+5=\", T+O)\n",
        "print (\"6+5=\",)"
      ],
      "metadata": {
        "colab": {
          "base_uri": "https://localhost:8080/"
        },
        "id": "7PSujvoArww_",
        "outputId": "f83e2c4e-a4af-4fc6-ba3b-0c7cca04afbe"
      },
      "execution_count": null,
      "outputs": [
        {
          "output_type": "stream",
          "name": "stdout",
          "text": [
            "11\n",
            "6+5= 11\n",
            "6+5=\n"
          ]
        }
      ]
    },
    {
      "cell_type": "markdown",
      "source": [
        "4. Use comments to explain your code."
      ],
      "metadata": {
        "id": "QDUgTTQVssrM"
      }
    },
    {
      "cell_type": "code",
      "source": [],
      "metadata": {
        "id": "3OKRmDhqs0Sy"
      },
      "execution_count": null,
      "outputs": []
    },
    {
      "cell_type": "code",
      "source": [
        "T, O = 6, 5\n",
        "# T and O were Added\n",
        "print (T+O)\n",
        "print (\"6+5=\", T+O)\n",
        "# WE CAN MAKE AS FOLLOWS ALSO\n",
        "print (\"6+5=\",)"
      ],
      "metadata": {
        "colab": {
          "base_uri": "https://localhost:8080/"
        },
        "outputId": "6b1b78d6-5a72-43cb-f454-098e57f15f0c",
        "id": "rAMxYiJFtFtc"
      },
      "execution_count": null,
      "outputs": [
        {
          "output_type": "stream",
          "name": "stdout",
          "text": [
            "11\n",
            "6+5= 11\n",
            "6+5=\n"
          ]
        }
      ]
    },
    {
      "cell_type": "markdown",
      "source": [
        "Take two numbers from the user and perform all arithmetic operations.\n",
        "Write a program to check if a number is greater than 100 and less than 200.\n",
        "Demonstrate the use of and, or, and not with conditions.\n",
        "Check if the letter 'p' exists in the string 'Python'.\n",
        "Show the difference between is and == using two lists."
      ],
      "metadata": {
        "id": "_lwR6NX1tu2C"
      }
    },
    {
      "cell_type": "code",
      "source": [
        "number1 = int (input (\"enter your number1: \"))\n",
        "number2 = int (input (\"enter your number2: \"))\n",
        "print (\"Sum:\", number1 + number2)\n",
        "print (\"Difference:\", number1 - number2)\n",
        "print (\"Product:\", number1 * number2)\n",
        "\n",
        "# Add a check to prevent division by zero\n",
        "if number2 != 0:\n",
        "    print (\"Division:\", number1 / number2)\n",
        "else:\n",
        "    print(\"Cannot divide by zero.\")"
      ],
      "metadata": {
        "colab": {
          "base_uri": "https://localhost:8080/"
        },
        "id": "9_bswQqC42sA",
        "outputId": "9429cc8a-5565-489f-a075-418254b729cc"
      },
      "execution_count": null,
      "outputs": [
        {
          "output_type": "stream",
          "name": "stdout",
          "text": [
            "enter your number1: 110\n",
            "enter your number2: 12\n",
            "Sum: 122\n",
            "Difference: 98\n",
            "Product: 1320\n",
            "Division: 9.166666666666666\n"
          ]
        }
      ]
    },
    {
      "cell_type": "code",
      "source": [
        "x = 100\n",
        "y = 200\n",
        "print (x == y)\n",
        "print (x > 100 and y < 200)\n",
        "print (x > 100 or y < 200)\n",
        "print (not x > 100)\n",
        "print (110 > 100 and 110 < 200)\n",
        "print (110 > 100 or 110 < 200)\n",
        "print (not 110 > 100)\n",
        "print ( x != y)"
      ],
      "metadata": {
        "colab": {
          "base_uri": "https://localhost:8080/"
        },
        "id": "9ZIrFWqiAdz0",
        "outputId": "270ba9a8-a688-417f-eb98-abf63f169309"
      },
      "execution_count": null,
      "outputs": [
        {
          "output_type": "stream",
          "name": "stdout",
          "text": [
            "False\n",
            "False\n",
            "False\n",
            "True\n",
            "True\n",
            "True\n",
            "False\n",
            "True\n"
          ]
        }
      ]
    },
    {
      "cell_type": "code",
      "source": [
        "print ( 10 and 10 )\n",
        "print (10 and 0 )\n",
        "print ( 10 or 10 )\n",
        "print (10 or 0 )\n",
        "print (not 0 )\n",
        "print (not 10)\n",
        "print ( not False)"
      ],
      "metadata": {
        "colab": {
          "base_uri": "https://localhost:8080/"
        },
        "id": "1Yr1oAX-EuGG",
        "outputId": "835c9cfe-69cb-4fc1-c19c-543626203588"
      },
      "execution_count": null,
      "outputs": [
        {
          "output_type": "stream",
          "name": "stdout",
          "text": [
            "10\n",
            "0\n",
            "10\n",
            "10\n",
            "True\n",
            "False\n",
            "True\n"
          ]
        }
      ]
    },
    {
      "cell_type": "code",
      "source": [
        "Name = \"Python\"\n",
        "print (\"P\" in Name)\n",
        "print (\"a\" in Name)\n",
        "print (\"a\" not in Name)\n"
      ],
      "metadata": {
        "colab": {
          "base_uri": "https://localhost:8080/"
        },
        "id": "-ZWgXn5iHN4K",
        "outputId": "cb8e3a95-f4f1-482e-a3ee-b84c4328d5d7"
      },
      "execution_count": null,
      "outputs": [
        {
          "output_type": "stream",
          "name": "stdout",
          "text": [
            "True\n",
            "False\n",
            "True\n"
          ]
        }
      ]
    },
    {
      "cell_type": "code",
      "source": [
        "x = [1, 2, 3]\n",
        "y = [1, 2, 3]\n",
        "print (x == y)\n",
        "print (x is y)\n",
        "print (x and y)"
      ],
      "metadata": {
        "colab": {
          "base_uri": "https://localhost:8080/"
        },
        "id": "mFxIqk-OIS7l",
        "outputId": "b2729d33-356b-4ed5-df95-9c2761b6fb0f"
      },
      "execution_count": null,
      "outputs": [
        {
          "output_type": "stream",
          "name": "stdout",
          "text": [
            "True\n",
            "False\n",
            "[1, 2, 3]\n"
          ]
        }
      ]
    },
    {
      "cell_type": "markdown",
      "source": [
        "Ask the user for their birth year and calculate their age.\n",
        "Convert a float number to an integer and print both values.\n",
        "Write a program that asks for two numbers and prints their product.\n",
        "Create a variable is_python_fun with a boolean value and print it."
      ],
      "metadata": {
        "id": "Ph5HI2N3lO56"
      }
    },
    {
      "cell_type": "code",
      "source": [
        "birth_year = int(input(\"enter your birth_year: \"))\n",
        "age = (2023 - birth_year)\n",
        "print(age)"
      ],
      "metadata": {
        "colab": {
          "base_uri": "https://localhost:8080/"
        },
        "id": "XjHoUjc0nf11",
        "outputId": "7c25b5aa-a258-4f10-ccae-74e858c51d5e"
      },
      "execution_count": null,
      "outputs": [
        {
          "output_type": "stream",
          "name": "stdout",
          "text": [
            "enter your birth_year: 1991\n",
            "32\n"
          ]
        }
      ]
    },
    {
      "cell_type": "code",
      "source": [
        "number = 3.99\n",
        "print(number)\n",
        "print(type(number))\n",
        "print(int(number))\n",
        "print(type(int(number)))"
      ],
      "metadata": {
        "colab": {
          "base_uri": "https://localhost:8080/"
        },
        "id": "-1iOTzytBiK0",
        "outputId": "20eb3558-196c-4849-ab9f-6d43365e5c8b"
      },
      "execution_count": null,
      "outputs": [
        {
          "output_type": "stream",
          "name": "stdout",
          "text": [
            "3.99\n",
            "<class 'float'>\n",
            "3\n",
            "<class 'int'>\n"
          ]
        }
      ]
    },
    {
      "cell_type": "code",
      "source": [
        "is_python_fun = True\n",
        "bool(is_python_fun)\n",
        "print(is_python_fun)\n",
        "\n"
      ],
      "metadata": {
        "colab": {
          "base_uri": "https://localhost:8080/"
        },
        "id": "b23FLgiUCqZ-",
        "outputId": "6cac5cc8-126c-4601-9470-4f4a438d7636"
      },
      "execution_count": null,
      "outputs": [
        {
          "output_type": "stream",
          "name": "stdout",
          "text": [
            "True\n"
          ]
        }
      ]
    },
    {
      "cell_type": "markdown",
      "source": [
        "Take a string input and print the first and last characters.\n",
        "Write a program to reverse a string using slicing.\n",
        "Count how many times the letter a appears in a string.\n",
        "Ask the user for their full name and print it in uppercase.\n",
        "Format a string to display: “My favorite subject is ___ and I am ___ years old.”"
      ],
      "metadata": {
        "id": "tHrwFhi5gSrR"
      }
    },
    {
      "cell_type": "code",
      "source": [
        "word = \"Ahasanul\"\n",
        "print (word [0])\n",
        "print (word [7])"
      ],
      "metadata": {
        "colab": {
          "base_uri": "https://localhost:8080/"
        },
        "id": "cERVUUaIgkaZ",
        "outputId": "4f1ba1c5-ba7d-41d9-c351-921237098145"
      },
      "execution_count": 2,
      "outputs": [
        {
          "output_type": "stream",
          "name": "stdout",
          "text": [
            "A\n",
            "l\n"
          ]
        }
      ]
    },
    {
      "cell_type": "code",
      "source": [
        "word = \"Ahasanul\"\n",
        "print (word[3:])"
      ],
      "metadata": {
        "colab": {
          "base_uri": "https://localhost:8080/"
        },
        "id": "SD63e8eKiA1Y",
        "outputId": "3ca4eb1d-75a7-46fd-d88f-189568f4ce59"
      },
      "execution_count": 4,
      "outputs": [
        {
          "output_type": "stream",
          "name": "stdout",
          "text": [
            "sanul\n"
          ]
        }
      ]
    },
    {
      "cell_type": "code",
      "source": [
        "word = \"Ahasanul\"\n",
        "# Count the occurrences of the letter 'a' (case-sensitive)\n",
        "print (word.count('a'))"
      ],
      "metadata": {
        "colab": {
          "base_uri": "https://localhost:8080/"
        },
        "id": "D4ZiUZOOiOle",
        "outputId": "67402b95-8688-4936-9a51-6af8b3e2be45"
      },
      "execution_count": 6,
      "outputs": [
        {
          "output_type": "stream",
          "name": "stdout",
          "text": [
            "2\n"
          ]
        }
      ]
    },
    {
      "cell_type": "code",
      "source": [
        "word = input (\"enter a word\")\n",
        "print (word.count(\"a\"))"
      ],
      "metadata": {
        "colab": {
          "base_uri": "https://localhost:8080/"
        },
        "id": "VbD_np_qiyW7",
        "outputId": "60f37a76-a9ad-4d57-f01e-0fba4d92cafe"
      },
      "execution_count": 7,
      "outputs": [
        {
          "output_type": "stream",
          "name": "stdout",
          "text": [
            "enter a wordAhasanul\n",
            "2\n"
          ]
        }
      ]
    },
    {
      "cell_type": "code",
      "source": [
        "word = input (\"enter a word\")\n",
        "print (word.upper())"
      ],
      "metadata": {
        "colab": {
          "base_uri": "https://localhost:8080/"
        },
        "id": "tvs66U_-jTns",
        "outputId": "5506de30-a22b-45c8-8569-8c3c1335285f"
      },
      "execution_count": 9,
      "outputs": [
        {
          "output_type": "stream",
          "name": "stdout",
          "text": [
            "enter a wordAhasanul\n",
            "AHASANUL\n"
          ]
        }
      ]
    },
    {
      "cell_type": "code",
      "source": [
        "my_favourite_subject = input (\"enter a subject\")\n",
        "my_age = input (\"enter a age\")\n",
        "print (f\"My favorite subject is {my_favourite_subject} and I am {my_age} years old.\")"
      ],
      "metadata": {
        "colab": {
          "base_uri": "https://localhost:8080/"
        },
        "id": "TyYg6SnPj8z3",
        "outputId": "25e26aa9-cff8-4e54-d12d-2acfc084f95a"
      },
      "execution_count": 11,
      "outputs": [
        {
          "output_type": "stream",
          "name": "stdout",
          "text": [
            "enter a subjectBiology\n",
            "enter a age32\n",
            "My favorite subject is Biology and I am 32 years old.\n"
          ]
        }
      ]
    },
    {
      "cell_type": "markdown",
      "source": [
        "Create a list of 5 numbers and print the sum and average.\n",
        "Store 3 favorite colors in a tuple and print them.\n",
        "Create a set of numbers and demonstrate union and intersection.\n",
        "Make a dictionary with keys: name, age, city. Print values nicely.\n",
        "Update a dictionary to add a new key country."
      ],
      "metadata": {
        "id": "rkYyHdD_kpAR"
      }
    },
    {
      "cell_type": "code",
      "source": [
        "numbers = (1, 2, 3, 4, 5)\n",
        "print (sum(numbers))\n",
        "print (sum(numbers) / len(numbers))"
      ],
      "metadata": {
        "colab": {
          "base_uri": "https://localhost:8080/"
        },
        "id": "I-70BbMykvH-",
        "outputId": "8c857675-53c9-45aa-f132-933185950a03"
      },
      "execution_count": 13,
      "outputs": [
        {
          "output_type": "stream",
          "name": "stdout",
          "text": [
            "15\n",
            "3.0\n"
          ]
        }
      ]
    },
    {
      "cell_type": "code",
      "source": [
        "colors = (\"Blue\", \"Green\", \"white\")\n",
        "print (colors)"
      ],
      "metadata": {
        "colab": {
          "base_uri": "https://localhost:8080/"
        },
        "id": "rJFaSMR8lhLN",
        "outputId": "15da457b-f08e-4917-9a0f-a14c98062365"
      },
      "execution_count": 15,
      "outputs": [
        {
          "output_type": "stream",
          "name": "stdout",
          "text": [
            "('Blue', 'Green', 'white')\n"
          ]
        }
      ]
    },
    {
      "cell_type": "code",
      "source": [
        "numbers1 = {1, 3, 5, 12}\n",
        "numbers2 = {2, 4, 6, 8}\n",
        "print (numbers1 | numbers2)\n",
        "print (numbers1 & numbers2)\n"
      ],
      "metadata": {
        "colab": {
          "base_uri": "https://localhost:8080/"
        },
        "id": "JZYHupWJmIle",
        "outputId": "0feddd7e-efd1-4414-b730-c732ee006475"
      },
      "execution_count": 17,
      "outputs": [
        {
          "output_type": "stream",
          "name": "stdout",
          "text": [
            "{1, 2, 3, 4, 5, 6, 8, 12}\n",
            "set()\n"
          ]
        }
      ]
    },
    {
      "cell_type": "code",
      "source": [
        "worker = { \"name\": \"Honda\", \"Age\": 34, \"city\": \"Rajshahi\"}\n",
        "print (worker)\n",
        "print(worker.keys())\n",
        "print (worker.values())"
      ],
      "metadata": {
        "colab": {
          "base_uri": "https://localhost:8080/"
        },
        "id": "ahyawVgimq6m",
        "outputId": "6276b61c-b666-4369-98f1-702f84ecb8e8"
      },
      "execution_count": 25,
      "outputs": [
        {
          "output_type": "stream",
          "name": "stdout",
          "text": [
            "{'name': 'Honda', 'Age': 34, 'city': 'Rajshahi'}\n",
            "dict_keys(['name', 'Age', 'city'])\n",
            "dict_values(['Honda', 34, 'Rajshahi'])\n"
          ]
        }
      ]
    },
    {
      "cell_type": "code",
      "source": [],
      "metadata": {
        "id": "LvuH4lWntF2B"
      },
      "execution_count": null,
      "outputs": []
    },
    {
      "cell_type": "code",
      "source": [
        "worker = { \"name\": \"Honda\", \"Age\": 34, \"city\": \"Rajshahi\"}\n",
        "worker [\"country\"] = \"Bangladesh\"\n",
        "print (worker)\n",
        "print(worker.keys())\n",
        "print (worker.values())"
      ],
      "metadata": {
        "colab": {
          "base_uri": "https://localhost:8080/"
        },
        "outputId": "7a63a290-201c-45e6-a41d-3691b878cf15",
        "id": "1CFmf_R5tPwc"
      },
      "execution_count": 28,
      "outputs": [
        {
          "output_type": "stream",
          "name": "stdout",
          "text": [
            "{'name': 'Honda', 'Age': 34, 'city': 'Rajshahi', 'country': 'Bangladesh'}\n",
            "dict_keys(['name', 'Age', 'city', 'country'])\n",
            "dict_values(['Honda', 34, 'Rajshahi', 'Bangladesh'])\n"
          ]
        }
      ]
    }
  ]
}